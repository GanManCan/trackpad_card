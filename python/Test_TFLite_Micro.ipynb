{
 "cells": [
  {
   "cell_type": "markdown",
   "metadata": {},
   "source": [
    "# Test inference on ESP32 microcontroller"
   ]
  },
  {
   "cell_type": "code",
   "execution_count": 27,
   "metadata": {},
   "outputs": [],
   "source": [
    "from __future__ import absolute_import, division, print_function, unicode_literals\n",
    "\n",
    "import glob\n",
    "import serial\n",
    "from serial import Serial\n",
    "import time\n",
    "\n",
    "import numpy as np\n",
    "import tensorflow as tf\n",
    "\n",
    "from PIL import Image\n",
    "import matplotlib.pyplot as plt"
   ]
  },
  {
   "cell_type": "code",
   "execution_count": 28,
   "metadata": {},
   "outputs": [],
   "source": [
    "try:\n",
    "  %tensorflow_version 2.x\n",
    "except:\n",
    "  pass"
   ]
  },
  {
   "cell_type": "code",
   "execution_count": 29,
   "metadata": {},
   "outputs": [],
   "source": [
    "INPUT_IMAGE_SIZE = 28\n",
    "\n",
    "# Path to TensorFlow Lite model file\n",
    "tflite_model_file = 'models/mnist_quant.tflite'\n",
    "\n",
    "# Path to images folder\n",
    "path = 'test_images_14x14/'\n",
    "file_format = \".jpg\"\n",
    "\n",
    "\n",
    "\n",
    "EXPECTED_PRECISION = 0.000001"
   ]
  },
  {
   "cell_type": "code",
   "execution_count": 30,
   "metadata": {},
   "outputs": [],
   "source": [
    "# Function to open serial port\n",
    "def init_serial(port_name):\n",
    "    # Configure and open serial port\n",
    "    port = serial.Serial(\n",
    "        port=port_name,\n",
    "        baudrate=115200,\n",
    "        bytesize=serial.EIGHTBITS,\n",
    "        parity=serial.PARITY_NONE,\n",
    "        stopbits=serial.STOPBITS_ONE,\n",
    "        xonxoff=False,\n",
    "        rtscts=False,\n",
    "        dsrdtr=False\n",
    "    )\n",
    "    \n",
    "    port.reset_input_buffer()\n",
    "    port.reset_output_buffer()\n",
    "    return port"
   ]
  },
  {
   "cell_type": "code",
   "execution_count": 31,
   "metadata": {},
   "outputs": [],
   "source": [
    "def send_to_mcu(port, data):\n",
    "    bytes_written = port.write(data)\n",
    "    return bytes_written"
   ]
  },
  {
   "cell_type": "code",
   "execution_count": 32,
   "metadata": {},
   "outputs": [],
   "source": [
    "def read_result_from_mcu(port):\n",
    "    line = port.read_until()   # read a '\\n' terminated line\n",
    "    return line"
   ]
  },
  {
   "cell_type": "code",
   "execution_count": 33,
   "metadata": {},
   "outputs": [],
   "source": [
    "def infer_with_TF_lite(interpreter, input_details, output_details, raw_image):\n",
    "    # Get input size\n",
    "    img = raw_image\n",
    "\n",
    "    # Normalize image\n",
    "    #img = img / 255.\n",
    "    input_details = interpreter.get_input_details()[0]\n",
    "    output_details = interpreter.get_output_details()[0]\n",
    "    # Add a batch dimension and a dimension because we use grayscale format\n",
    "    # Reshape from (INPUT_IMAGE_SIZE, INPUT_IMAGE_SIZE) to (1, INPUT_IMAGE_SIZE, INPUT_IMAGE_SIZE, 1)\n",
    "    test_image=raw_image\n",
    "    #print('Data Type ',test_image.dtype)\n",
    "    \n",
    "    input_scale, input_zero_point = input_details[\"quantization\"]\n",
    "    test_image = test_image / input_scale + input_zero_point\n",
    "    test_image = np.expand_dims(test_image, axis=0).astype(input_details[\"dtype\"])\n",
    "    # Point the data to be used for testing\n",
    "    interpreter.set_tensor(input_details['index'], test_image)\n",
    "\n",
    "    # Run the interpreter\n",
    "    interpreter.invoke()\n",
    "\n",
    "    # Obtain results\n",
    "    #predictions = interpreter.get_tensor(output_details['index'])[0]\n",
    "    output = interpreter.get_tensor(output_details['index'])[0]\n",
    "    predictions = output.argmax()\n",
    "    \n",
    "    return predictions"
   ]
  },
  {
   "cell_type": "code",
   "execution_count": 34,
   "metadata": {},
   "outputs": [],
   "source": [
    "def infer_with_MCU(raw_image):\n",
    "    img = np.array(raw_image, dtype=np.uint8)\n",
    "    bytes_sent = send_to_mcu(serial_port, img)\n",
    "    \n",
    "    response_str = read_result_from_mcu(serial_port)\n",
    "    response_str = response_str.decode(\"utf-8\")\n",
    "    print(response_str)\n",
    "    predictions = np.fromstring(response_str, dtype=np.float32, sep=',')\n",
    "    predictions = predictions.argmax()\n",
    "    return predictions"
   ]
  },
  {
   "cell_type": "code",
   "execution_count": 35,
   "metadata": {},
   "outputs": [],
   "source": [
    "def compare_results(result_tfl, result_mcu):\n",
    "    for i in range(len(result_tfl)):\n",
    "        if abs(result_tfl[i] - result_mcu[i]) > EXPECTED_PRECISION :\n",
    "            return False\n",
    "        else:\n",
    "            pass\n",
    "    return True"
   ]
  },
  {
   "cell_type": "code",
   "execution_count": 36,
   "metadata": {},
   "outputs": [],
   "source": [
    "# Create Interpreter (Load TFLite model).\n",
    "interpreter = tf.lite.Interpreter(model_path=tflite_model_file)\n",
    "# Allocate tensors\n",
    "interpreter.allocate_tensors()"
   ]
  },
  {
   "cell_type": "code",
   "execution_count": 37,
   "metadata": {},
   "outputs": [],
   "source": [
    "# Get input and output tensors.\n",
    "input_details = interpreter.get_input_details()\n",
    "output_details = interpreter.get_output_details()"
   ]
  },
  {
   "cell_type": "markdown",
   "metadata": {},
   "source": [
    "### Be sure your ESP32 board connected to development computer."
   ]
  },
  {
   "cell_type": "code",
   "execution_count": 38,
   "metadata": {},
   "outputs": [
    {
     "name": "stdout",
     "output_type": "stream",
     "text": [
      "[    0.097577] printk: console [tty0] enabled\r\n",
      "[  899.770194] usb 1-3: cp210x converter now attached to ttyUSB0\r\n",
      "[  939.265644] cp210x ttyUSB0: failed set request 0x7 status: -19\r\n",
      "[  939.265653] cp210x ttyUSB0: failed set request 0x12 status: -19\r\n",
      "[  939.265658] cp210x ttyUSB0: failed set request 0x0 status: -19\r\n",
      "[  939.265923] cp210x ttyUSB0: cp210x converter now disconnected from ttyUSB0\r\n",
      "[  942.303292] usb 1-3: cp210x converter now attached to ttyUSB0\r\n"
     ]
    }
   ],
   "source": [
    "# Get list of present serial ports\n",
    "!dmesg | grep -e tty"
   ]
  },
  {
   "cell_type": "code",
   "execution_count": 39,
   "metadata": {},
   "outputs": [
    {
     "name": "stdout",
     "output_type": "stream",
     "text": [
      "Opened serial port : /dev/ttyUSB0\n"
     ]
    }
   ],
   "source": [
    "# Configure and open serial port\n",
    "SERIAL_PORT_NAME = '/dev/ttyUSB0'\n",
    "serial_port = init_serial(SERIAL_PORT_NAME)\n",
    "\n",
    "# Check which port was really used\n",
    "print(\"Opened serial port : {0}\".format(serial_port.name))        "
   ]
  },
  {
   "cell_type": "code",
   "execution_count": 40,
   "metadata": {},
   "outputs": [
    {
     "name": "stdout",
     "output_type": "stream",
     "text": [
      "Found 0 .jpg files\n"
     ]
    }
   ],
   "source": [
    "files = [files for files in glob.glob(path + \"*\" + file_format, recursive=False)]\n",
    "print(\"Found {0} {1} files\".format(len(files), file_format))"
   ]
  },
  {
   "cell_type": "markdown",
   "metadata": {},
   "source": [
    "### Run inference on TensorFlow Lite model and on MCU. Compare results."
   ]
  },
  {
   "cell_type": "code",
   "execution_count": 43,
   "metadata": {
    "scrolled": false
   },
   "outputs": [
    {
     "name": "stdout",
     "output_type": "stream",
     "text": [
      "-1.105287e+01,-1.354208e+01,-3.621679e+00,1.183993e+00,-3.911577e-01,-9.724754e-02,-7.188730e+00,1.805462e+00,-2.511660e-01,6.759808e+00,\n",
      "\n",
      "\n",
      "Result_tfl =  1\n",
      "Result_mcu = 9\n",
      "Run time: 1.08544 seconds\n",
      "\n"
     ]
    },
    {
     "data": {
      "image/png": "[encoded data removed]",
      "text/plain": [
       "<Figure size 432x288 with 1 Axes>"
      ]
     },
     "metadata": {
      "needs_background": "light"
     },
     "output_type": "display_data"
    }
   ],
   "source": [
    "# Test on random mnist database numbers\n",
    "# Load MNIST dataset\n",
    "mnist = tf.keras.datasets.mnist\n",
    "(train_images, train_labels), (test_images, test_labels) = mnist.load_data()\n",
    "\n",
    "# Filter intermediate values to scale for use in uC\n",
    "train_images[train_images>200]=255\n",
    "train_images[train_images<=200]=0\n",
    "\n",
    "test_images[test_images>200]=255\n",
    "test_images[test_images<=200]=0\n",
    "\n",
    "\n",
    "for f in range(1):\n",
    "    \n",
    "    # load random mnist number\n",
    "    index = np.random.randint(0,59999)\n",
    "    \n",
    "    # Read image\n",
    "    raw_image = train_images[index]\n",
    "    plt.imshow(raw_image)\n",
    "    \n",
    "    #result_tfl = infer_with_TF_lite(interpreter, input_details, output_details, raw_image)\n",
    "    \n",
    "    start_time = time.time(); \n",
    "    result_mcu = infer_with_MCU(raw_image)\n",
    "    end_time = time.time(); \n",
    "\n",
    "    #status = compare_results(result_tfl, result_mcu)\n",
    "    #status_str = \"Ok\" if status else \"Reults NOT eqal!\"\n",
    "    #print(\"For file: {0} - {1}\".format(f, status_str))\n",
    "    print(\"\\nResult_tfl = \", result_tfl)\n",
    "    print(\"Result_mcu =\", result_mcu)\n",
    "    print(\"Run time: %.5f seconds\\n\" %(end_time-start_time))"
   ]
  },
  {
   "cell_type": "code",
   "execution_count": 25,
   "metadata": {},
   "outputs": [
    {
     "data": {
      "text/plain": [
       "dtype('uint8')"
      ]
     },
     "execution_count": 25,
     "metadata": {},
     "output_type": "execute_result"
    }
   ],
   "source": [
    "raw_image.dtype"
   ]
  },
  {
   "cell_type": "code",
   "execution_count": 26,
   "metadata": {},
   "outputs": [],
   "source": [
    "serial_port.close()"
   ]
  },
  {
   "cell_type": "code",
   "execution_count": null,
   "metadata": {},
   "outputs": [],
   "source": []
  }
 ],
 "metadata": {
  "kernelspec": {
   "display_name": "Python 3",
   "language": "python",
   "name": "python3"
  },
  "language_info": {
   "codemirror_mode": {
    "name": "ipython",
    "version": 3
   },
   "file_extension": ".py",
   "mimetype": "text/x-python",
   "name": "python",
   "nbconvert_exporter": "python",
   "pygments_lexer": "ipython3",
   "version": "3.8.5"
  }
 },
 "nbformat": 4,
 "nbformat_minor": 4
}
