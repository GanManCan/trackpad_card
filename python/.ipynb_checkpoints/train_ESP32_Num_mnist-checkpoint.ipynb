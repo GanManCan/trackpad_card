{
 "cells": [
  {
   "cell_type": "code",
   "execution_count": 7,
   "metadata": {},
   "outputs": [],
   "source": [
    "# Import Required Libratries\n",
    "import math\n",
    "import numpy as np\n",
    "import matplotlib.pyplot as plt\n",
    "import tensorflow as tf\n",
    "from tensorflow import keras\n",
    "\n",
    "%matplotlib inline"
   ]
  },
  {
   "cell_type": "code",
   "execution_count": 8,
   "metadata": {},
   "outputs": [],
   "source": [
    "############################################################\n",
    "# function: create_onehot_classifier(y)\n",
    "#   Creates a one hot encoded array between (0,9) \n",
    "#\n",
    "# input: mx1 array of intergers between (0,9), \n",
    "#        where m represents the number of training examples\n",
    "#\n",
    "# output: mx10 array of one's hot encoded values\n",
    "############################################################\n",
    "\n",
    "\n",
    "def create_onehot_classifier(y):\n",
    "    \n",
    "    #Create and array zeros array in the shape of the final output\n",
    "    arr_train = np.zeros((y.shape[0],10),dtype=int) \n",
    "    \n",
    "    i=0 # Inititalize the index\n",
    "    \n",
    "    # Interate through each example and write that example to \n",
    "    #   the zeros array generated earlier \n",
    "    for val in y:\n",
    "        temp_arr = np.zeros(10)\n",
    "        temp_arr[0] = 1\n",
    "        temp_arr = np.roll(temp_arr, val)\n",
    "        arr_train[i,:] = temp_arr\n",
    "        i=i+1\n",
    "    return arr_train"
   ]
  },
  {
   "cell_type": "code",
   "execution_count": 9,
   "metadata": {},
   "outputs": [
    {
     "name": "stdout",
     "output_type": "stream",
     "text": [
      "Number of training examples:  60000\n",
      "Number of test examples:  10000\n",
      "x_train shape:  (60000, 28, 28)\n",
      "y_train shape:  (60000,)\n",
      "x_test shape:  (10000, 28, 28)\n",
      "y_test shape:  (10000,)\n",
      "\n",
      "Formatted x_train shape: (60000, 784)\n",
      "Formatted y_train shape: (60000, 10)\n",
      "Formatted x_test shape: (10000, 784)\n",
      "Formatted y_test shape: (10000, 10)\n"
     ]
    }
   ],
   "source": [
    "# This block loads the data, and places it in the\n",
    "#    correct format for training\n",
    "\n",
    "#Load mnist data\n",
    "\n",
    "(x_train_read,y_train_read), (x_test_read,y_test_read) = keras.datasets.mnist.load_data()\n",
    "\n",
    "# Print the shape of data of orginial data\n",
    "print(\"Number of training examples: \", x_train_read.shape[0])\n",
    "print(\"Number of test examples: \", x_test_read.shape[0])\n",
    "print(\"x_train shape: \", x_train_read.shape)\n",
    "print(\"y_train shape: \", y_train_read.shape)\n",
    "print(\"x_test shape: \", x_test_read.shape)\n",
    "print(\"y_test shape: \", y_test_read.shape)\n",
    "\n",
    "\n",
    "# Unwrape the data the data into a single column for each example\n",
    "x_train = x_train_read.reshape(x_train_read.shape[0],-1)\n",
    "x_test = x_test_read.reshape(x_test_read.shape[0],-1)\n",
    "\n",
    "y_train = create_onehot_classifier(y_train_read)\n",
    "y_test = create_onehot_classifier(y_test_read)\n",
    "\n",
    "print(\"\\nFormatted x_train shape:\",x_train.shape)\n",
    "print(\"Formatted y_train shape:\",y_train.shape)\n",
    "print(\"Formatted x_test shape:\",x_test.shape)\n",
    "print(\"Formatted y_test shape:\",y_test.shape)\n"
   ]
  },
  {
   "cell_type": "markdown",
   "metadata": {},
   "source": [
    "The foundation of any AI application is the data provided to the algorithm.  The cell below will load a random sample of the data.\n",
    "\n",
    "Rerun the cell multiple times to get familiar with the data. "
   ]
  },
  {
   "cell_type": "code",
   "execution_count": 10,
   "metadata": {
    "scrolled": true
   },
   "outputs": [
    {
     "name": "stdout",
     "output_type": "stream",
     "text": [
      "Number:  6\n",
      "y_train[51378] = [0 0 0 0 0 0 1 0 0 0]\n",
      "x_train[51378]:\n"
     ]
    },
    {
     "data": {
      "image/png": "[encoded data removed]",
      "text/plain": [
       "<Figure size 432x288 with 1 Axes>"
      ]
     },
     "metadata": {
      "needs_background": "light"
     },
     "output_type": "display_data"
    }
   ],
   "source": [
    "# Explore the Data\n",
    "# Rerun this cell to load additonal examples\n",
    "\n",
    "# Integer between 0-59,999\n",
    "index = np.random.randint(0,59999)\n",
    "plt.imshow(x_train_read[index], cmap='gray')\n",
    "str_yout = 'y_train['+str(index)+'] ='\n",
    "str_xout = 'x_train['+str(index)+']:'\n",
    "print(\"Number: \", y_train_read[index])\n",
    "print(str_yout,y_train[index])\n",
    "print(str_xout)"
   ]
  },
  {
   "cell_type": "code",
   "execution_count": 17,
   "metadata": {},
   "outputs": [],
   "source": [
    "# This block contains the function to generate the model\n",
    "## EDIT VALUES IN THIS BLOCK TO CHANGE PERFORMANCE ##\n",
    "\n",
    "def create_model():\n",
    "   \n",
    "    # Hyper Parameters\n",
    "    #### EDIT THESE VALUES TO CHANGE PERFOMANCE  #####\n",
    "    learning_rate = 0.0006 # Learning is highly depdendent on this values\n",
    "    hidden_layer1_size = 8 # number of neurons in hidden layer 1\n",
    "    hidden_layer2_size = 4 # number of neurons in hidden layer 2\n",
    "    #hidden_layer3_size = 2\n",
    "    \n",
    "    # Block defining neural network \n",
    "    ####  EDIT NUMBER OF LAYERS/NEURONS TO ChANGE PERFORMANCE ###\n",
    "    \n",
    "    \n",
    "    model = keras.Sequential([\n",
    "        # Define Input Layer/Hidden Layer 1\n",
    "        keras.layers.Dense(hidden_layer1_size, activation=tf.nn.relu, input_shape = (784,)),\n",
    "        # Define Hidden Layer 2\n",
    "        keras.layers.Dense(hidden_layer2_size, activation=tf.nn.relu),\n",
    "        # Additional Hidden Layers here:\n",
    "        #keras.layers.Dense(hidden_layer3_size, activation=tf.nn.relu),\n",
    "        # Define Output layer\n",
    "        keras.layers.Dense(10, activation=tf.keras.activations.softmax)\n",
    "    ])\n",
    "\n",
    "    # By default will use:\n",
    "    #   Adams Optimizer with learning rate 0.0005\n",
    "    #       Adams is an algorithm used to update weights/biases during training\n",
    "    #       There are other optimezers available\n",
    "    #   Mean Square Error Loss Function\n",
    "    #   Metrics, which is only provided for information and not used \n",
    "    #      for training.  In this example a accuracy is choosen. \n",
    "    model.compile(optimizer=tf.keras.optimizers.Adam(learning_rate),\n",
    "                  loss=tf.keras.losses.mean_squared_error,\n",
    "                  metrics=['accuracy'])\n",
    "    return model\n",
    "\n",
    "# Load the neural network \n",
    "model = create_model()"
   ]
  },
  {
   "cell_type": "code",
   "execution_count": 18,
   "metadata": {},
   "outputs": [
    {
     "name": "stdout",
     "output_type": "stream",
     "text": [
      "Epoch 1/100\n",
      "938/938 [==============================] - 2s 2ms/step - loss: 0.1021 - accuracy: 0.2637\n",
      "Epoch 2/100\n",
      "938/938 [==============================] - 2s 2ms/step - loss: 0.0610 - accuracy: 0.4538\n",
      "Epoch 3/100\n",
      "938/938 [==============================] - 2s 2ms/step - loss: 0.0579 - accuracy: 0.4886\n",
      "Epoch 4/100\n",
      "938/938 [==============================] - 2s 2ms/step - loss: 0.0538 - accuracy: 0.5462\n",
      "Epoch 5/100\n",
      "938/938 [==============================] - 2s 2ms/step - loss: 0.0479 - accuracy: 0.6194\n",
      "Epoch 6/100\n",
      "938/938 [==============================] - 2s 2ms/step - loss: 0.0456 - accuracy: 0.6442\n",
      "Epoch 7/100\n",
      "938/938 [==============================] - 2s 2ms/step - loss: 0.0432 - accuracy: 0.6627\n",
      "Epoch 8/100\n",
      "938/938 [==============================] - 2s 2ms/step - loss: 0.0415 - accuracy: 0.6894\n",
      "Epoch 9/100\n",
      "938/938 [==============================] - 2s 2ms/step - loss: 0.0398 - accuracy: 0.7137\n",
      "Epoch 10/100\n",
      "938/938 [==============================] - 2s 2ms/step - loss: 0.0384 - accuracy: 0.7343\n",
      "Epoch 11/100\n",
      "938/938 [==============================] - 2s 2ms/step - loss: 0.0373 - accuracy: 0.7436\n",
      "Epoch 12/100\n",
      "938/938 [==============================] - 2s 2ms/step - loss: 0.0358 - accuracy: 0.7530\n",
      "Epoch 13/100\n",
      "938/938 [==============================] - 2s 2ms/step - loss: 0.0306 - accuracy: 0.8066\n",
      "Epoch 14/100\n",
      "938/938 [==============================] - 2s 2ms/step - loss: 0.0269 - accuracy: 0.8443\n",
      "Epoch 15/100\n",
      "938/938 [==============================] - 2s 2ms/step - loss: 0.0263 - accuracy: 0.8478\n",
      "Epoch 16/100\n",
      "938/938 [==============================] - 2s 2ms/step - loss: 0.0248 - accuracy: 0.8558\n",
      "Epoch 17/100\n",
      "938/938 [==============================] - 2s 2ms/step - loss: 0.0245 - accuracy: 0.8577\n",
      "Epoch 18/100\n",
      "938/938 [==============================] - 2s 2ms/step - loss: 0.0240 - accuracy: 0.8623\n",
      "Epoch 19/100\n",
      "938/938 [==============================] - 2s 2ms/step - loss: 0.0234 - accuracy: 0.8660\n",
      "Epoch 20/100\n",
      "938/938 [==============================] - 2s 2ms/step - loss: 0.0231 - accuracy: 0.8680\n",
      "Epoch 21/100\n",
      "938/938 [==============================] - 2s 2ms/step - loss: 0.0220 - accuracy: 0.8747\n",
      "Epoch 22/100\n",
      "938/938 [==============================] - 2s 2ms/step - loss: 0.0218 - accuracy: 0.8739\n",
      "Epoch 23/100\n",
      "938/938 [==============================] - 1s 2ms/step - loss: 0.0213 - accuracy: 0.8785\n",
      "Epoch 24/100\n",
      "938/938 [==============================] - 2s 2ms/step - loss: 0.0206 - accuracy: 0.8824\n",
      "Epoch 25/100\n",
      "938/938 [==============================] - 2s 2ms/step - loss: 0.0205 - accuracy: 0.8834\n",
      "Epoch 26/100\n",
      "938/938 [==============================] - 2s 2ms/step - loss: 0.0207 - accuracy: 0.8803\n",
      "Epoch 27/100\n",
      "938/938 [==============================] - 2s 2ms/step - loss: 0.0195 - accuracy: 0.8882\n",
      "Epoch 28/100\n",
      "938/938 [==============================] - 2s 2ms/step - loss: 0.0198 - accuracy: 0.8868\n",
      "Epoch 29/100\n",
      "938/938 [==============================] - 2s 2ms/step - loss: 0.0189 - accuracy: 0.8926\n",
      "Epoch 30/100\n",
      "938/938 [==============================] - 2s 2ms/step - loss: 0.0195 - accuracy: 0.8882\n",
      "Epoch 31/100\n",
      "938/938 [==============================] - 2s 2ms/step - loss: 0.0192 - accuracy: 0.8897\n",
      "Epoch 32/100\n",
      "938/938 [==============================] - 2s 2ms/step - loss: 0.0186 - accuracy: 0.8939\n",
      "Epoch 33/100\n",
      "938/938 [==============================] - 2s 2ms/step - loss: 0.0190 - accuracy: 0.8908\n",
      "Epoch 34/100\n",
      "938/938 [==============================] - 1s 2ms/step - loss: 0.0180 - accuracy: 0.8971\n",
      "Epoch 35/100\n",
      "938/938 [==============================] - 2s 2ms/step - loss: 0.0178 - accuracy: 0.8993\n",
      "Epoch 36/100\n",
      "938/938 [==============================] - 2s 2ms/step - loss: 0.0184 - accuracy: 0.8950\n",
      "Epoch 37/100\n",
      "938/938 [==============================] - 1s 1ms/step - loss: 0.0178 - accuracy: 0.8988\n",
      "Epoch 38/100\n",
      "938/938 [==============================] - 1s 1ms/step - loss: 0.0177 - accuracy: 0.8997\n",
      "Epoch 39/100\n",
      "938/938 [==============================] - 1s 1ms/step - loss: 0.0176 - accuracy: 0.9007\n",
      "Epoch 40/100\n",
      "938/938 [==============================] - 1s 1ms/step - loss: 0.0174 - accuracy: 0.9017\n",
      "Epoch 41/100\n",
      "938/938 [==============================] - 1s 1ms/step - loss: 0.0176 - accuracy: 0.8985\n",
      "Epoch 42/100\n",
      "938/938 [==============================] - 1s 1ms/step - loss: 0.0170 - accuracy: 0.9033\n",
      "Epoch 43/100\n",
      "938/938 [==============================] - 1s 1ms/step - loss: 0.0175 - accuracy: 0.9008\n",
      "Epoch 44/100\n",
      "938/938 [==============================] - 1s 1ms/step - loss: 0.0173 - accuracy: 0.9011\n",
      "Epoch 45/100\n",
      "938/938 [==============================] - 1s 1ms/step - loss: 0.0167 - accuracy: 0.9050\n",
      "Epoch 46/100\n",
      "938/938 [==============================] - 1s 1ms/step - loss: 0.0166 - accuracy: 0.9048\n",
      "Epoch 47/100\n",
      "938/938 [==============================] - 1s 2ms/step - loss: 0.0168 - accuracy: 0.9048\n",
      "Epoch 48/100\n",
      "938/938 [==============================] - 2s 2ms/step - loss: 0.0168 - accuracy: 0.9040\n",
      "Epoch 49/100\n",
      "938/938 [==============================] - 2s 2ms/step - loss: 0.0166 - accuracy: 0.9056\n",
      "Epoch 50/100\n",
      "938/938 [==============================] - 1s 1ms/step - loss: 0.0167 - accuracy: 0.9050\n",
      "Epoch 51/100\n",
      "938/938 [==============================] - 1s 1ms/step - loss: 0.0167 - accuracy: 0.9037\n",
      "Epoch 52/100\n",
      "938/938 [==============================] - 1s 1ms/step - loss: 0.0162 - accuracy: 0.9073\n",
      "Epoch 53/100\n",
      "938/938 [==============================] - 1s 1ms/step - loss: 0.0162 - accuracy: 0.9075\n",
      "Epoch 54/100\n",
      "938/938 [==============================] - 1s 1ms/step - loss: 0.0157 - accuracy: 0.9111\n",
      "Epoch 55/100\n",
      "938/938 [==============================] - 1s 1ms/step - loss: 0.0154 - accuracy: 0.9118\n",
      "Epoch 56/100\n",
      "938/938 [==============================] - 1s 1ms/step - loss: 0.0158 - accuracy: 0.9088\n",
      "Epoch 57/100\n",
      "938/938 [==============================] - 1s 1ms/step - loss: 0.0154 - accuracy: 0.9127\n",
      "Epoch 58/100\n",
      "938/938 [==============================] - 1s 1ms/step - loss: 0.0164 - accuracy: 0.9061\n",
      "Epoch 59/100\n",
      "938/938 [==============================] - 1s 1ms/step - loss: 0.0155 - accuracy: 0.9113\n",
      "Epoch 60/100\n",
      "938/938 [==============================] - 1s 1ms/step - loss: 0.0157 - accuracy: 0.9104\n",
      "Epoch 61/100\n",
      "938/938 [==============================] - 1s 1ms/step - loss: 0.0158 - accuracy: 0.9108\n",
      "Epoch 62/100\n",
      "938/938 [==============================] - 2s 2ms/step - loss: 0.0155 - accuracy: 0.9118\n",
      "Epoch 63/100\n",
      "938/938 [==============================] - 2s 2ms/step - loss: 0.0155 - accuracy: 0.9113\n",
      "Epoch 64/100\n",
      "938/938 [==============================] - 2s 2ms/step - loss: 0.0158 - accuracy: 0.9106\n",
      "Epoch 65/100\n",
      "938/938 [==============================] - 2s 2ms/step - loss: 0.0150 - accuracy: 0.9148\n",
      "Epoch 66/100\n",
      "938/938 [==============================] - 2s 2ms/step - loss: 0.0156 - accuracy: 0.9120\n",
      "Epoch 67/100\n",
      "938/938 [==============================] - 2s 2ms/step - loss: 0.0151 - accuracy: 0.9142\n",
      "Epoch 68/100\n",
      "938/938 [==============================] - 2s 2ms/step - loss: 0.0146 - accuracy: 0.9171\n",
      "Epoch 69/100\n",
      "938/938 [==============================] - 1s 2ms/step - loss: 0.0151 - accuracy: 0.9146\n",
      "Epoch 70/100\n",
      "938/938 [==============================] - 2s 2ms/step - loss: 0.0147 - accuracy: 0.9162\n",
      "Epoch 71/100\n",
      "938/938 [==============================] - 2s 2ms/step - loss: 0.0151 - accuracy: 0.9145\n",
      "Epoch 72/100\n",
      "938/938 [==============================] - 2s 2ms/step - loss: 0.0151 - accuracy: 0.9144\n",
      "Epoch 73/100\n",
      "938/938 [==============================] - 2s 2ms/step - loss: 0.0154 - accuracy: 0.9126\n",
      "Epoch 74/100\n",
      "938/938 [==============================] - 2s 2ms/step - loss: 0.0144 - accuracy: 0.9191\n",
      "Epoch 75/100\n",
      "938/938 [==============================] - 2s 2ms/step - loss: 0.0151 - accuracy: 0.9142\n",
      "Epoch 76/100\n",
      "938/938 [==============================] - 2s 2ms/step - loss: 0.0152 - accuracy: 0.9142\n",
      "Epoch 77/100\n",
      "938/938 [==============================] - 2s 2ms/step - loss: 0.0146 - accuracy: 0.9171\n",
      "Epoch 78/100\n",
      "938/938 [==============================] - 2s 2ms/step - loss: 0.0146 - accuracy: 0.9166\n",
      "Epoch 79/100\n",
      "938/938 [==============================] - 2s 2ms/step - loss: 0.0154 - accuracy: 0.9123\n",
      "Epoch 80/100\n",
      "938/938 [==============================] - 1s 1ms/step - loss: 0.0147 - accuracy: 0.9160\n",
      "Epoch 81/100\n"
     ]
    },
    {
     "name": "stdout",
     "output_type": "stream",
     "text": [
      "938/938 [==============================] - 2s 2ms/step - loss: 0.0149 - accuracy: 0.9154\n",
      "Epoch 82/100\n",
      "938/938 [==============================] - 1s 1ms/step - loss: 0.0147 - accuracy: 0.9161\n",
      "Epoch 83/100\n",
      "938/938 [==============================] - 1s 1ms/step - loss: 0.0148 - accuracy: 0.9160\n",
      "Epoch 84/100\n",
      "938/938 [==============================] - 2s 2ms/step - loss: 0.0146 - accuracy: 0.9169\n",
      "Epoch 85/100\n",
      "938/938 [==============================] - 2s 2ms/step - loss: 0.0147 - accuracy: 0.9168\n",
      "Epoch 86/100\n",
      "938/938 [==============================] - 2s 2ms/step - loss: 0.0152 - accuracy: 0.9135\n",
      "Epoch 87/100\n",
      "938/938 [==============================] - 1s 1ms/step - loss: 0.0147 - accuracy: 0.9169\n",
      "Epoch 88/100\n",
      "938/938 [==============================] - 1s 2ms/step - loss: 0.0144 - accuracy: 0.9182\n",
      "Epoch 89/100\n",
      "938/938 [==============================] - 2s 2ms/step - loss: 0.0147 - accuracy: 0.9166\n",
      "Epoch 90/100\n",
      "938/938 [==============================] - 1s 1ms/step - loss: 0.0146 - accuracy: 0.9170\n",
      "Epoch 91/100\n",
      "938/938 [==============================] - 1s 1ms/step - loss: 0.0144 - accuracy: 0.9179\n",
      "Epoch 92/100\n",
      "938/938 [==============================] - 1s 1ms/step - loss: 0.0147 - accuracy: 0.9174\n",
      "Epoch 93/100\n",
      "938/938 [==============================] - 1s 1ms/step - loss: 0.0145 - accuracy: 0.9176\n",
      "Epoch 94/100\n",
      "938/938 [==============================] - 1s 1ms/step - loss: 0.0143 - accuracy: 0.9185\n",
      "Epoch 95/100\n",
      "938/938 [==============================] - 1s 1ms/step - loss: 0.0147 - accuracy: 0.9167\n",
      "Epoch 96/100\n",
      "938/938 [==============================] - 1s 1ms/step - loss: 0.0148 - accuracy: 0.9158\n",
      "Epoch 97/100\n",
      "938/938 [==============================] - 1s 1ms/step - loss: 0.0144 - accuracy: 0.9180\n",
      "Epoch 98/100\n",
      "938/938 [==============================] - 1s 1ms/step - loss: 0.0140 - accuracy: 0.9208\n",
      "Epoch 99/100\n",
      "938/938 [==============================] - 1s 1ms/step - loss: 0.0144 - accuracy: 0.9185: 0s - loss: 0.0145 \n",
      "Epoch 100/100\n",
      "938/938 [==============================] - 1s 1ms/step - loss: 0.0139 - accuracy: 0.9217\n"
     ]
    },
    {
     "data": {
      "text/plain": [
       "<tensorflow.python.keras.callbacks.History at 0x7f918504d790>"
      ]
     },
     "execution_count": 18,
     "metadata": {},
     "output_type": "execute_result"
    }
   ],
   "source": [
    "# Train the model using the .fit method\n",
    "# EDIT Epochs, batch_size, inital_epoch\n",
    "epoch_num = 100\n",
    "epoch_init = 0\n",
    "model.fit(x_train, y_train, epochs = epoch_num, batch_size = 64,initial_epoch=epoch_init)"
   ]
  },
  {
   "cell_type": "code",
   "execution_count": 20,
   "metadata": {
    "scrolled": true
   },
   "outputs": [
    {
     "name": "stdout",
     "output_type": "stream",
     "text": [
      "Test Accuracy =  0.909600019454956\n"
     ]
    }
   ],
   "source": [
    "# Evaluate your model on the test set\n",
    "test_loss, test_acc = model.evaluate(x_test, y_test,verbose = 'False')\n",
    "print(\"Test Accuracy = \",  test_acc)"
   ]
  },
  {
   "cell_type": "code",
   "execution_count": 22,
   "metadata": {},
   "outputs": [
    {
     "name": "stdout",
     "output_type": "stream",
     "text": [
      "Number:            7\n",
      "Model Prediction:  7\n",
      "x_train[51378]:\n"
     ]
    },
    {
     "data": {
      "image/png": "[encoded data removed]",
      "text/plain": [
       "<Figure size 432x288 with 1 Axes>"
      ]
     },
     "metadata": {
      "needs_background": "light"
     },
     "output_type": "display_data"
    }
   ],
   "source": [
    "# Let Look at how the model perfromed\n",
    "# Rerun the model to figure which test cases your model\n",
    "#    predicted right and which ones it predicted wrong\n",
    "# \n",
    "# Evaluating which data your model does well on which ones\n",
    "#   need improvemt can focus your data collection and traing efforts \n",
    "\n",
    "index = np.random.randint(0,x_train.shape[0])\n",
    "plt.imshow(x_train_read[index], cmap='gray')\n",
    "\n",
    "xin = x_train[index].reshape(-1,1)\n",
    "xin = xin.T\n",
    "arr_predict = model.predict(xin,verbose = 'False')\n",
    "# transform array to number\n",
    "result = np.argmax(arr_predict)\n",
    "\n",
    "print(\"Number:           \", y_train_read[index])\n",
    "print(\"Model Prediction: \", result)\n",
    "print(str_xout)"
   ]
  },
  {
   "cell_type": "code",
   "execution_count": 23,
   "metadata": {},
   "outputs": [],
   "source": [
    "# Run this block to save your model\n",
    "# This file will be the submission to the programming challenge\n",
    "### EDIT NAME ###\n",
    "model.save('ESP32_Num_mnist_8_4.h5')\n"
   ]
  },
  {
   "cell_type": "markdown",
   "metadata": {},
   "source": [
    "## Generate a TensorFlow Lite Mod"
   ]
  },
  {
   "cell_type": "code",
   "execution_count": null,
   "metadata": {},
   "outputs": [],
   "source": [
    "#Convert the model to the TensorFlow Lite format with quantization"
   ]
  }
 ],
 "metadata": {
  "kernelspec": {
   "display_name": "Python 3",
   "language": "python",
   "name": "python3"
  },
  "language_info": {
   "codemirror_mode": {
    "name": "ipython",
    "version": 3
   },
   "file_extension": ".py",
   "mimetype": "text/x-python",
   "name": "python",
   "nbconvert_exporter": "python",
   "pygments_lexer": "ipython3",
   "version": "3.8.5"
  }
 },
 "nbformat": 4,
 "nbformat_minor": 2
}
